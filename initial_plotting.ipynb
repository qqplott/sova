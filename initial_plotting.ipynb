{
 "cells": [
  {
   "cell_type": "code",
   "execution_count": 1,
   "metadata": {},
   "outputs": [],
   "source": [
    "import warnings\n",
    "warnings.simplefilter('ignore')\n",
    "\n",
    "import numpy as np\n",
    "import pandas as pd\n",
    "\n",
    "import datetime as dt\n",
    "\n",
    "from ipywidgets import interact\n",
    "import plotly.graph_objects as go\n",
    "from plotly.subplots import make_subplots\n",
    "\n",
    "from sova.market_data import generate_market_data\n",
    "from sova.asset import StockOption, OptionType\n",
    "from sova.portfolio import Portfolio, Trade\n",
    "\n",
    "import importlib\n",
    "import sova\n",
    "importlib.reload(sova.asset);"
   ]
  },
  {
   "cell_type": "code",
   "execution_count": 4,
   "metadata": {},
   "outputs": [
    {
     "data": {
      "application/vnd.jupyter.widget-view+json": {
       "model_id": "378fe30b2da140e4a639924224b95086",
       "version_major": 2,
       "version_minor": 0
      },
      "text/plain": [
       "interactive(children=(FloatSlider(value=0.05, description='p_val', max=0.1, step=0.0001), FloatSlider(value=0.…"
      ]
     },
     "metadata": {},
     "output_type": "display_data"
    }
   ],
   "source": [
    "@interact(p_val=(0, .1, .0001), q_val=(0, .1, .0001), a0=(0., 1e-3, 1e-5))\n",
    "def plot_asset_vol_returns(p_val, q_val, a0):\n",
    "    print(a0)\n",
    "    print(p_val)\n",
    "    print(q_val)\n",
    "\n",
    "    n_obs = 500\n",
    "    p_arr = np.array([p_val])\n",
    "    q_arr = np.array([q_val])\n",
    "    md = generate_market_data(a0, p_arr, q_arr, n_obs=n_obs)\n",
    "    x_arr = md.index\n",
    "    fig1 = go.Figure(\n",
    "        data=go.Scatter(x=x_arr, y=md.asset_price, line_color='deepskyblue'))\n",
    "    fig1.update_layout(title='Asset price')\n",
    "    fig1.add_shape(type=\"line\",\n",
    "                   x0=md.index[0],\n",
    "                   y0=md.asset_price[0],\n",
    "                   x1=md.index[-1],\n",
    "                   y1=md.asset_price[0],\n",
    "                   line=dict(\n",
    "                       color=\"MediumPurple\",\n",
    "                       width=4,\n",
    "                       dash=\"dot\",\n",
    "                   ))\n",
    "    fig1.show()\n",
    "\n",
    "    opt_call = StockOption(amount=1,\n",
    "                           expiry=pd.Series(md.index).max(),\n",
    "                           strike=md.asset_price[0],\n",
    "                           sigma=md.asset_volatility[0],\n",
    "                           option_type=OptionType.CALL)\n",
    "    pf = Portfolio(trades=[Trade(x_arr[0], md.asset_price[0], opt_call)])\n",
    "    pf_price = md.apply(lambda r: pf.current_price(\n",
    "        stock_price=r.asset_price, market_time=r.name.to_pydatetime()),\n",
    "                        axis=1)\n",
    "    pf_delta = md.apply(lambda r: pf.current_delta(\n",
    "        stock_price=r.asset_price, market_time=r.name.to_pydatetime()),\n",
    "                        axis=1)\n",
    "\n",
    "    fig2 = go.Figure(data=go.Scatter(x=x_arr, y=pf_price))\n",
    "    fig2.update_layout(title='Portfolio PV')\n",
    "    fig2.show()\n",
    "\n",
    "    fig3 = go.Figure(data=go.Scatter(x=x_arr, y=pf_delta))\n",
    "    fig3.update_layout(title='Portfolio Delta')\n",
    "    fig3.show()"
   ]
  },
  {
   "cell_type": "code",
   "execution_count": null,
   "metadata": {},
   "outputs": [],
   "source": []
  }
 ],
 "metadata": {
  "kernelspec": {
   "display_name": "Python3 (sova-env)",
   "language": "python",
   "name": "sova-env"
  },
  "language_info": {
   "codemirror_mode": {
    "name": "ipython",
    "version": 3
   },
   "file_extension": ".py",
   "mimetype": "text/x-python",
   "name": "python",
   "nbconvert_exporter": "python",
   "pygments_lexer": "ipython3",
   "version": "3.7.6"
  }
 },
 "nbformat": 4,
 "nbformat_minor": 4
}
